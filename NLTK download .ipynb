{
 "cells": [
  {
   "cell_type": "code",
   "execution_count": 1,
   "id": "40a817ea",
   "metadata": {},
   "outputs": [
    {
     "name": "stdout",
     "output_type": "stream",
     "text": [
      "Requirement already satisfied: nltk in d:\\anaconda\\lib\\site-packages (3.8.1)\n",
      "Requirement already satisfied: joblib in d:\\anaconda\\lib\\site-packages (from nltk) (1.1.1)\n",
      "Requirement already satisfied: click in d:\\anaconda\\lib\\site-packages (from nltk) (8.0.4)\n",
      "Requirement already satisfied: regex>=2021.8.3 in d:\\anaconda\\lib\\site-packages (from nltk) (2022.7.9)\n",
      "Requirement already satisfied: tqdm in d:\\anaconda\\lib\\site-packages (from nltk) (4.64.1)\n",
      "Requirement already satisfied: colorama in d:\\anaconda\\lib\\site-packages (from click->nltk) (0.4.6)\n"
     ]
    }
   ],
   "source": [
    "!pip install nltk"
   ]
  },
  {
   "cell_type": "code",
   "execution_count": 2,
   "id": "a26d094c",
   "metadata": {},
   "outputs": [],
   "source": [
    ">>> import nltk"
   ]
  },
  {
   "cell_type": "code",
   "execution_count": 3,
   "id": "4f5ed084",
   "metadata": {},
   "outputs": [
    {
     "name": "stdout",
     "output_type": "stream",
     "text": [
      "showing info https://raw.githubusercontent.com/nltk/nltk_data/gh-pages/index.xml\n"
     ]
    },
    {
     "data": {
      "text/plain": [
       "True"
      ]
     },
     "execution_count": 3,
     "metadata": {},
     "output_type": "execute_result"
    }
   ],
   "source": [
    ">>> nltk.download()"
   ]
  },
  {
   "cell_type": "code",
   "execution_count": 4,
   "id": "b33906f1",
   "metadata": {},
   "outputs": [
    {
     "data": {
      "text/plain": [
       "['Today is a great day.',\n",
       " 'It is even better than yesterday.',\n",
       " 'And yesterday was the best day ever.']"
      ]
     },
     "execution_count": 4,
     "metadata": {},
     "output_type": "execute_result"
    }
   ],
   "source": [
    ">>> text=\"Today is a great day. It is even better than yesterday. And yesterday was the best day ever.\"\n",
    ">>> from nltk.tokenize import sent_tokenize\n",
    ">>> sent_tokenize(text)"
   ]
  },
  {
   "cell_type": "code",
   "execution_count": 5,
   "id": "56a3c901",
   "metadata": {},
   "outputs": [
    {
     "data": {
      "text/plain": [
       "['Hi, how are you?', \"I'm good, you?\", 'Great!']"
      ]
     },
     "execution_count": 5,
     "metadata": {},
     "output_type": "execute_result"
    }
   ],
   "source": [
    ">>> sent_tokenize(\"Hi, how are you? I'm good, you? Great!\")"
   ]
  },
  {
   "cell_type": "code",
   "execution_count": 6,
   "id": "b79bc579",
   "metadata": {},
   "outputs": [
    {
     "data": {
      "text/plain": [
       "[\"Last night, I went to Mrs. Martinez's housewarming.\", 'It was a disaster.']"
      ]
     },
     "execution_count": 6,
     "metadata": {},
     "output_type": "execute_result"
    }
   ],
   "source": [
    ">>> nltk.sent_tokenize(\"Last night, I went to Mrs. Martinez's housewarming. It was a disaster.\")"
   ]
  },
  {
   "cell_type": "code",
   "execution_count": 7,
   "id": "0f827b2d",
   "metadata": {},
   "outputs": [
    {
     "data": {
      "text/plain": [
       "['Enchanté, comment allez-vous?', 'Tres bien.', 'Mersi, et vous?']"
      ]
     },
     "execution_count": 7,
     "metadata": {},
     "output_type": "execute_result"
    }
   ],
   "source": [
    ">>> sent_tokenize(\"Enchanté, comment allez-vous? Tres bien. Mersi, et vous?\",\"french\")"
   ]
  },
  {
   "cell_type": "code",
   "execution_count": 8,
   "id": "2060ec8c",
   "metadata": {},
   "outputs": [
    {
     "data": {
      "text/plain": [
       "['She holds an MDS.', 'in Oral Pathology']"
      ]
     },
     "execution_count": 8,
     "metadata": {},
     "output_type": "execute_result"
    }
   ],
   "source": [
    ">>> sent_tokenize(\"She holds an MDS. in Oral Pathology\")"
   ]
  },
  {
   "cell_type": "code",
   "execution_count": 9,
   "id": "62938a8a",
   "metadata": {},
   "outputs": [
    {
     "data": {
      "text/plain": [
       "['Today',\n",
       " 'is',\n",
       " 'a',\n",
       " 'great',\n",
       " 'day',\n",
       " '.',\n",
       " 'It',\n",
       " 'is',\n",
       " 'even',\n",
       " 'better',\n",
       " 'than',\n",
       " 'yesterday',\n",
       " '.',\n",
       " 'And',\n",
       " 'yesterday',\n",
       " 'was',\n",
       " 'the',\n",
       " 'best',\n",
       " 'day',\n",
       " 'ever',\n",
       " '.']"
      ]
     },
     "execution_count": 9,
     "metadata": {},
     "output_type": "execute_result"
    }
   ],
   "source": [
    ">>> nltk.word_tokenize(text)"
   ]
  },
  {
   "cell_type": "code",
   "execution_count": 10,
   "id": "422c7189",
   "metadata": {},
   "outputs": [
    {
     "data": {
      "text/plain": [
       "['Last',\n",
       " 'night',\n",
       " ',',\n",
       " 'I',\n",
       " 'went',\n",
       " 'to',\n",
       " 'Mrs.',\n",
       " 'Martinez',\n",
       " \"'s\",\n",
       " 'housewarming',\n",
       " '.',\n",
       " 'It',\n",
       " 'was',\n",
       " 'a',\n",
       " 'disaster',\n",
       " '.']"
      ]
     },
     "execution_count": 10,
     "metadata": {},
     "output_type": "execute_result"
    }
   ],
   "source": [
    ">>> nltk.word_tokenize(\"Last night, I went to Mrs. Martinez's housewarming. It was a disaster.\")"
   ]
  },
  {
   "cell_type": "code",
   "execution_count": 11,
   "id": "c5beefc3",
   "metadata": {},
   "outputs": [
    {
     "data": {
      "text/plain": [
       "[Synset('love.n.01'),\n",
       " Synset('love.n.02'),\n",
       " Synset('beloved.n.01'),\n",
       " Synset('love.n.04'),\n",
       " Synset('love.n.05'),\n",
       " Synset('sexual_love.n.02'),\n",
       " Synset('love.v.01'),\n",
       " Synset('love.v.02'),\n",
       " Synset('love.v.03'),\n",
       " Synset('sleep_together.v.01')]"
      ]
     },
     "execution_count": 11,
     "metadata": {},
     "output_type": "execute_result"
    }
   ],
   "source": [
    ">>> from nltk.corpus import wordnet\n",
    ">>> syn=wordnet.synsets('love')\n",
    ">>> syn"
   ]
  },
  {
   "cell_type": "code",
   "execution_count": 12,
   "id": "fe52f56c",
   "metadata": {},
   "outputs": [
    {
     "data": {
      "text/plain": [
       "'a strong positive emotion of regard and affection'"
      ]
     },
     "execution_count": 12,
     "metadata": {},
     "output_type": "execute_result"
    }
   ],
   "source": [
    ">>> syn[0].definition()"
   ]
  },
  {
   "cell_type": "code",
   "execution_count": 13,
   "id": "9edb4c59",
   "metadata": {},
   "outputs": [
    {
     "data": {
      "text/plain": [
       "['his love for his work', 'children need a lot of love']"
      ]
     },
     "execution_count": 13,
     "metadata": {},
     "output_type": "execute_result"
    }
   ],
   "source": [
    ">>> syn[0].examples()"
   ]
  },
  {
   "cell_type": "code",
   "execution_count": 14,
   "id": "5accac52",
   "metadata": {},
   "outputs": [
    {
     "data": {
      "text/plain": [
       "'a characteristic state or mode of living'"
      ]
     },
     "execution_count": 14,
     "metadata": {},
     "output_type": "execute_result"
    }
   ],
   "source": [
    ">>> syn=wordnet.synsets('life')\n",
    ">>> syn[0].definition()"
   ]
  },
  {
   "cell_type": "code",
   "execution_count": 15,
   "id": "cfa68e81",
   "metadata": {},
   "outputs": [
    {
     "data": {
      "text/plain": [
       "['social life', 'city life', 'real life']"
      ]
     },
     "execution_count": 15,
     "metadata": {},
     "output_type": "execute_result"
    }
   ],
   "source": [
    ">>> syn[0].examples()"
   ]
  },
  {
   "cell_type": "code",
   "execution_count": 16,
   "id": "18ccf6ac",
   "metadata": {},
   "outputs": [
    {
     "data": {
      "text/plain": [
       "'the experience of being alive; the course of human events and activities'"
      ]
     },
     "execution_count": 16,
     "metadata": {},
     "output_type": "execute_result"
    }
   ],
   "source": [
    ">>> syn[1].definition()"
   ]
  },
  {
   "cell_type": "code",
   "execution_count": 17,
   "id": "bc21f784",
   "metadata": {},
   "outputs": [
    {
     "data": {
      "text/plain": [
       "['he could no longer cope with the complexities of life']"
      ]
     },
     "execution_count": 17,
     "metadata": {},
     "output_type": "execute_result"
    }
   ],
   "source": [
    ">>> syn[1].examples()"
   ]
  },
  {
   "cell_type": "code",
   "execution_count": 18,
   "id": "655b148a",
   "metadata": {},
   "outputs": [
    {
     "data": {
      "text/plain": [
       "['Army_Intelligence',\n",
       " 'AI',\n",
       " 'artificial_intelligence',\n",
       " 'AI',\n",
       " 'three-toed_sloth',\n",
       " 'ai',\n",
       " 'Bradypus_tridactylus',\n",
       " 'artificial_insemination',\n",
       " 'AI']"
      ]
     },
     "execution_count": 18,
     "metadata": {},
     "output_type": "execute_result"
    }
   ],
   "source": [
    ">>> synonyms=[]\n",
    ">>> for syn in wordnet.synsets('AI'):\n",
    "        for lemma in syn.lemmas():\n",
    "               synonyms.append(lemma.name())\n",
    ">>> synonyms"
   ]
  },
  {
   "cell_type": "code",
   "execution_count": 19,
   "id": "f5acb957",
   "metadata": {},
   "outputs": [
    {
     "data": {
      "text/plain": [
       "['elate']"
      ]
     },
     "execution_count": 19,
     "metadata": {},
     "output_type": "execute_result"
    }
   ],
   "source": [
    ">>> from nltk.corpus import wordnet\n",
    ">>> antonyms=[]\n",
    ">>> for syn in wordnet.synsets('depressed'):\n",
    "        for l in syn.lemmas():\n",
    "                 if l.antonyms():\n",
    "                          antonyms.append(l.antonyms()[0].name())\n",
    ">>> antonyms"
   ]
  },
  {
   "cell_type": "code",
   "execution_count": 20,
   "id": "df2f678c",
   "metadata": {},
   "outputs": [
    {
     "data": {
      "text/plain": [
       "['elate', 'beautiful']"
      ]
     },
     "execution_count": 20,
     "metadata": {},
     "output_type": "execute_result"
    }
   ],
   "source": [
    ">>> for syn in wordnet.synsets('ugly'):\n",
    "        for l in syn.lemmas():\n",
    "                  if l.antonyms():\n",
    "                            antonyms.append(l.antonyms()[0].name())\n",
    ">>> antonyms"
   ]
  },
  {
   "cell_type": "code",
   "execution_count": 22,
   "id": "8e9998db",
   "metadata": {},
   "outputs": [
    {
     "name": "stdout",
     "output_type": "stream",
     "text": [
      "Original word: loving\n",
      "Stemmed word: love\n"
     ]
    }
   ],
   "source": [
    "from nltk.stem import PorterStemmer\n",
    "\n",
    "# Initialize the Porter Stemmer\n",
    "stemmer = PorterStemmer()\n",
    "\n",
    "# Stem a word\n",
    "word = \"loving\"\n",
    "stemmed_word = stemmer.stem(word)\n",
    "\n",
    "print(\"Original word:\", word)\n",
    "print(\"Stemmed word:\", stemmed_word)\n"
   ]
  },
  {
   "cell_type": "code",
   "execution_count": 23,
   "id": "c7f26138",
   "metadata": {},
   "outputs": [
    {
     "data": {
      "text/plain": [
       "'love'"
      ]
     },
     "execution_count": 23,
     "metadata": {},
     "output_type": "execute_result"
    }
   ],
   "source": [
    ">>> stemmer.stem('loving')"
   ]
  },
  {
   "cell_type": "code",
   "execution_count": 24,
   "id": "d037f8de",
   "metadata": {},
   "outputs": [
    {
     "data": {
      "text/plain": [
       "'traine'"
      ]
     },
     "execution_count": 24,
     "metadata": {},
     "output_type": "execute_result"
    }
   ],
   "source": [
    ">>> stemmer.stem('trainee')"
   ]
  },
  {
   "cell_type": "code",
   "execution_count": 25,
   "id": "1f670b3f",
   "metadata": {},
   "outputs": [
    {
     "data": {
      "text/plain": [
       "'syllabi'"
      ]
     },
     "execution_count": 25,
     "metadata": {},
     "output_type": "execute_result"
    }
   ],
   "source": [
    ">>> stemmer.stem('syllabi')"
   ]
  },
  {
   "cell_type": "code",
   "execution_count": 26,
   "id": "476c90de",
   "metadata": {},
   "outputs": [
    {
     "data": {
      "text/plain": [
       "'formula'"
      ]
     },
     "execution_count": 26,
     "metadata": {},
     "output_type": "execute_result"
    }
   ],
   "source": [
    ">>> stemmer.stem('formulae')"
   ]
  },
  {
   "cell_type": "code",
   "execution_count": 27,
   "id": "65ae475d",
   "metadata": {},
   "outputs": [
    {
     "data": {
      "text/plain": [
       "'alibi'"
      ]
     },
     "execution_count": 27,
     "metadata": {},
     "output_type": "execute_result"
    }
   ],
   "source": [
    ">>> stemmer.stem('alibi')"
   ]
  },
  {
   "cell_type": "code",
   "execution_count": 28,
   "id": "34147b4d",
   "metadata": {},
   "outputs": [
    {
     "data": {
      "text/plain": [
       "'criteria'"
      ]
     },
     "execution_count": 28,
     "metadata": {},
     "output_type": "execute_result"
    }
   ],
   "source": [
    ">>> stemmer.stem('criteria')"
   ]
  },
  {
   "cell_type": "code",
   "execution_count": 29,
   "id": "968213bf",
   "metadata": {},
   "outputs": [
    {
     "data": {
      "text/plain": [
       "'write'"
      ]
     },
     "execution_count": 29,
     "metadata": {},
     "output_type": "execute_result"
    }
   ],
   "source": [
    ">>> stemmer.stem('writes')"
   ]
  },
  {
   "cell_type": "code",
   "execution_count": 30,
   "id": "e9160e57",
   "metadata": {},
   "outputs": [
    {
     "data": {
      "text/plain": [
       "'believ'"
      ]
     },
     "execution_count": 30,
     "metadata": {},
     "output_type": "execute_result"
    }
   ],
   "source": [
    ">>> stemmer.stem('believes')"
   ]
  },
  {
   "cell_type": "code",
   "execution_count": 31,
   "id": "42db7414",
   "metadata": {},
   "outputs": [
    {
     "data": {
      "text/plain": [
       "'write'"
      ]
     },
     "execution_count": 31,
     "metadata": {},
     "output_type": "execute_result"
    }
   ],
   "source": [
    ">>> stemmer.stem('writing')"
   ]
  },
  {
   "cell_type": "code",
   "execution_count": 32,
   "id": "2e84bbec",
   "metadata": {},
   "outputs": [
    {
     "data": {
      "text/plain": [
       "'write'"
      ]
     },
     "execution_count": 32,
     "metadata": {},
     "output_type": "execute_result"
    }
   ],
   "source": [
    ">>> stemmer.stem('write')"
   ]
  },
  {
   "cell_type": "code",
   "execution_count": 33,
   "id": "e9671f41",
   "metadata": {},
   "outputs": [
    {
     "data": {
      "text/plain": [
       "('arabic',\n",
       " 'danish',\n",
       " 'dutch',\n",
       " 'english',\n",
       " 'finnish',\n",
       " 'french',\n",
       " 'german',\n",
       " 'hungarian',\n",
       " 'italian',\n",
       " 'norwegian',\n",
       " 'porter',\n",
       " 'portuguese',\n",
       " 'romanian',\n",
       " 'russian',\n",
       " 'spanish',\n",
       " 'swedish')"
      ]
     },
     "execution_count": 33,
     "metadata": {},
     "output_type": "execute_result"
    }
   ],
   "source": [
    ">>> from nltk.stem import SnowballStemmer\n",
    ">>> SnowballStemmer.languages"
   ]
  },
  {
   "cell_type": "code",
   "execution_count": 34,
   "id": "8272bb72",
   "metadata": {},
   "outputs": [
    {
     "data": {
      "text/plain": [
       "'englez'"
      ]
     },
     "execution_count": 34,
     "metadata": {},
     "output_type": "execute_result"
    }
   ],
   "source": [
    ">>> rom_stemmer=SnowballStemmer('romanian')\n",
    ">>> rom_stemmer.stem('englezească') #English"
   ]
  },
  {
   "cell_type": "code",
   "execution_count": 35,
   "id": "d9f729fb",
   "metadata": {},
   "outputs": [
    {
     "data": {
      "text/plain": [
       "'cocoș'"
      ]
     },
     "execution_count": 35,
     "metadata": {},
     "output_type": "execute_result"
    }
   ],
   "source": [
    ">>> rom_stemmer.stem('cocoș') #Cocks"
   ]
  },
  {
   "cell_type": "code",
   "execution_count": 36,
   "id": "7486bdba",
   "metadata": {},
   "outputs": [
    {
     "data": {
      "text/plain": [
       "'frigid'"
      ]
     },
     "execution_count": 36,
     "metadata": {},
     "output_type": "execute_result"
    }
   ],
   "source": [
    ">>> rom_stemmer.stem('frigidere') #Refrigerators"
   ]
  },
  {
   "cell_type": "code",
   "execution_count": 37,
   "id": "43fdcadd",
   "metadata": {},
   "outputs": [
    {
     "data": {
      "text/plain": [
       "'frigider'"
      ]
     },
     "execution_count": 37,
     "metadata": {},
     "output_type": "execute_result"
    }
   ],
   "source": [
    ">>> rom_stemmer.stem('frigider') #Refrigerator"
   ]
  },
  {
   "cell_type": "code",
   "execution_count": 38,
   "id": "bdbd9b5a",
   "metadata": {},
   "outputs": [
    {
     "data": {
      "text/plain": [
       "'goi'"
      ]
     },
     "execution_count": 38,
     "metadata": {},
     "output_type": "execute_result"
    }
   ],
   "source": [
    ">>> rom_stemmer.stem('goi') #Empty- plural"
   ]
  },
  {
   "cell_type": "code",
   "execution_count": 39,
   "id": "142654a7",
   "metadata": {},
   "outputs": [
    {
     "data": {
      "text/plain": [
       "'goal'"
      ]
     },
     "execution_count": 39,
     "metadata": {},
     "output_type": "execute_result"
    }
   ],
   "source": [
    ">>> rom_stemmer.stem('goale') #Empty- plural"
   ]
  },
  {
   "cell_type": "code",
   "execution_count": 40,
   "id": "2e34142b",
   "metadata": {},
   "outputs": [
    {
     "data": {
      "text/plain": [
       "'frumoas'"
      ]
     },
     "execution_count": 40,
     "metadata": {},
     "output_type": "execute_result"
    }
   ],
   "source": [
    ">>> rom_stemmer.stem('frumoasă') #Beautiful- female"
   ]
  },
  {
   "cell_type": "code",
   "execution_count": 41,
   "id": "8a5059df",
   "metadata": {},
   "outputs": [
    {
     "data": {
      "text/plain": [
       "'frumoas'"
      ]
     },
     "execution_count": 41,
     "metadata": {},
     "output_type": "execute_result"
    }
   ],
   "source": [
    ">>> rom_stemmer.stem('frumoase') #Beautiful- plural"
   ]
  },
  {
   "cell_type": "code",
   "execution_count": 42,
   "id": "321af60d",
   "metadata": {},
   "outputs": [
    {
     "data": {
      "text/plain": [
       "'frumoș'"
      ]
     },
     "execution_count": 42,
     "metadata": {},
     "output_type": "execute_result"
    }
   ],
   "source": [
    ">>> rom_stemmer.stem('frumoși') #Beautiful- plural"
   ]
  },
  {
   "cell_type": "code",
   "execution_count": 43,
   "id": "cb014845",
   "metadata": {},
   "outputs": [
    {
     "data": {
      "text/plain": [
       "'belief'"
      ]
     },
     "execution_count": 43,
     "metadata": {},
     "output_type": "execute_result"
    }
   ],
   "source": [
    ">>> from nltk.stem import WordNetLemmatizer\n",
    ">>> lemmatizer=WordNetLemmatizer()\n",
    ">>> lemmatizer.lemmatize('believes')"
   ]
  },
  {
   "cell_type": "code",
   "execution_count": 44,
   "id": "935f10d5",
   "metadata": {},
   "outputs": [
    {
     "data": {
      "text/plain": [
       "'this'"
      ]
     },
     "execution_count": 44,
     "metadata": {},
     "output_type": "execute_result"
    }
   ],
   "source": [
    ">>> lemmatizer.lemmatize('this')"
   ]
  },
  {
   "cell_type": "code",
   "execution_count": 45,
   "id": "c9c3c741",
   "metadata": {},
   "outputs": [
    {
     "data": {
      "text/plain": [
       "'believe'"
      ]
     },
     "execution_count": 45,
     "metadata": {},
     "output_type": "execute_result"
    }
   ],
   "source": [
    ">>> lemmatizer.lemmatize('believes',pos='v')"
   ]
  },
  {
   "cell_type": "code",
   "execution_count": 46,
   "id": "900d48f5",
   "metadata": {},
   "outputs": [
    {
     "data": {
      "text/plain": [
       "'crossing'"
      ]
     },
     "execution_count": 46,
     "metadata": {},
     "output_type": "execute_result"
    }
   ],
   "source": [
    ">>> lemmatizer.lemmatize('crossing',pos='a') #adjective"
   ]
  },
  {
   "cell_type": "code",
   "execution_count": 47,
   "id": "0effceb5",
   "metadata": {},
   "outputs": [
    {
     "data": {
      "text/plain": [
       "'cross'"
      ]
     },
     "execution_count": 47,
     "metadata": {},
     "output_type": "execute_result"
    }
   ],
   "source": [
    ">>> lemmatizer.lemmatize('crossing',pos='v') #verb"
   ]
  },
  {
   "cell_type": "code",
   "execution_count": 48,
   "id": "8dad8652",
   "metadata": {},
   "outputs": [
    {
     "data": {
      "text/plain": [
       "'crossing'"
      ]
     },
     "execution_count": 48,
     "metadata": {},
     "output_type": "execute_result"
    }
   ],
   "source": [
    ">>> lemmatizer.lemmatize('crossing',pos='n') #noun"
   ]
  },
  {
   "cell_type": "code",
   "execution_count": 49,
   "id": "35b167e5",
   "metadata": {},
   "outputs": [
    {
     "data": {
      "text/plain": [
       "'crossing'"
      ]
     },
     "execution_count": 49,
     "metadata": {},
     "output_type": "execute_result"
    }
   ],
   "source": [
    ">>> lemmatizer.lemmatize('crossing',pos='r') #adverb"
   ]
  },
  {
   "cell_type": "code",
   "execution_count": 50,
   "id": "97b22c81",
   "metadata": {},
   "outputs": [
    {
     "data": {
      "text/plain": [
       "['i',\n",
       " 'me',\n",
       " 'my',\n",
       " 'myself',\n",
       " 'we',\n",
       " 'our',\n",
       " 'ours',\n",
       " 'ourselves',\n",
       " 'you',\n",
       " \"you're\",\n",
       " \"you've\",\n",
       " \"you'll\",\n",
       " \"you'd\",\n",
       " 'your',\n",
       " 'yours',\n",
       " 'yourself',\n",
       " 'yourselves',\n",
       " 'he',\n",
       " 'him',\n",
       " 'his',\n",
       " 'himself',\n",
       " 'she',\n",
       " \"she's\",\n",
       " 'her',\n",
       " 'hers',\n",
       " 'herself',\n",
       " 'it',\n",
       " \"it's\",\n",
       " 'its',\n",
       " 'itself',\n",
       " 'they',\n",
       " 'them',\n",
       " 'their',\n",
       " 'theirs',\n",
       " 'themselves',\n",
       " 'what',\n",
       " 'which',\n",
       " 'who',\n",
       " 'whom',\n",
       " 'this',\n",
       " 'that',\n",
       " \"that'll\",\n",
       " 'these',\n",
       " 'those',\n",
       " 'am',\n",
       " 'is',\n",
       " 'are',\n",
       " 'was',\n",
       " 'were',\n",
       " 'be',\n",
       " 'been',\n",
       " 'being',\n",
       " 'have',\n",
       " 'has',\n",
       " 'had',\n",
       " 'having',\n",
       " 'do',\n",
       " 'does',\n",
       " 'did',\n",
       " 'doing',\n",
       " 'a',\n",
       " 'an',\n",
       " 'the',\n",
       " 'and',\n",
       " 'but',\n",
       " 'if',\n",
       " 'or',\n",
       " 'because',\n",
       " 'as',\n",
       " 'until',\n",
       " 'while',\n",
       " 'of',\n",
       " 'at',\n",
       " 'by',\n",
       " 'for',\n",
       " 'with',\n",
       " 'about',\n",
       " 'against',\n",
       " 'between',\n",
       " 'into',\n",
       " 'through',\n",
       " 'during',\n",
       " 'before',\n",
       " 'after',\n",
       " 'above',\n",
       " 'below',\n",
       " 'to',\n",
       " 'from',\n",
       " 'up',\n",
       " 'down',\n",
       " 'in',\n",
       " 'out',\n",
       " 'on',\n",
       " 'off',\n",
       " 'over',\n",
       " 'under',\n",
       " 'again',\n",
       " 'further',\n",
       " 'then',\n",
       " 'once',\n",
       " 'here',\n",
       " 'there',\n",
       " 'when',\n",
       " 'where',\n",
       " 'why',\n",
       " 'how',\n",
       " 'all',\n",
       " 'any',\n",
       " 'both',\n",
       " 'each',\n",
       " 'few',\n",
       " 'more',\n",
       " 'most',\n",
       " 'other',\n",
       " 'some',\n",
       " 'such',\n",
       " 'no',\n",
       " 'nor',\n",
       " 'not',\n",
       " 'only',\n",
       " 'own',\n",
       " 'same',\n",
       " 'so',\n",
       " 'than',\n",
       " 'too',\n",
       " 'very',\n",
       " 's',\n",
       " 't',\n",
       " 'can',\n",
       " 'will',\n",
       " 'just',\n",
       " 'don',\n",
       " \"don't\",\n",
       " 'should',\n",
       " \"should've\",\n",
       " 'now',\n",
       " 'd',\n",
       " 'll',\n",
       " 'm',\n",
       " 'o',\n",
       " 're',\n",
       " 've',\n",
       " 'y',\n",
       " 'ain',\n",
       " 'aren',\n",
       " \"aren't\",\n",
       " 'couldn',\n",
       " \"couldn't\",\n",
       " 'didn',\n",
       " \"didn't\",\n",
       " 'doesn',\n",
       " \"doesn't\",\n",
       " 'hadn',\n",
       " \"hadn't\",\n",
       " 'hasn',\n",
       " \"hasn't\",\n",
       " 'haven',\n",
       " \"haven't\",\n",
       " 'isn',\n",
       " \"isn't\",\n",
       " 'ma',\n",
       " 'mightn',\n",
       " \"mightn't\",\n",
       " 'mustn',\n",
       " \"mustn't\",\n",
       " 'needn',\n",
       " \"needn't\",\n",
       " 'shan',\n",
       " \"shan't\",\n",
       " 'shouldn',\n",
       " \"shouldn't\",\n",
       " 'wasn',\n",
       " \"wasn't\",\n",
       " 'weren',\n",
       " \"weren't\",\n",
       " 'won',\n",
       " \"won't\",\n",
       " 'wouldn',\n",
       " \"wouldn't\"]"
      ]
     },
     "execution_count": 50,
     "metadata": {},
     "output_type": "execute_result"
    }
   ],
   "source": [
    ">>> from nltk.corpus import stopwords\n",
    ">>> stopwords.words('english')"
   ]
  },
  {
   "cell_type": "code",
   "execution_count": 51,
   "id": "4787922c",
   "metadata": {},
   "outputs": [
    {
     "data": {
      "text/plain": [
       "['Today',\n",
       " 'great',\n",
       " 'day',\n",
       " '.',\n",
       " 'It',\n",
       " 'even',\n",
       " 'better',\n",
       " 'yesterday',\n",
       " '.',\n",
       " 'And',\n",
       " 'yesterday',\n",
       " 'best',\n",
       " 'day',\n",
       " 'ever',\n",
       " '!']"
      ]
     },
     "execution_count": 51,
     "metadata": {},
     "output_type": "execute_result"
    }
   ],
   "source": [
    ">>> from nltk.corpus import stopwords\n",
    ">>> text=\"Today is a great day. It is even better than yesterday. And yesterday was the best day ever!\"\n",
    ">>> stopwords=set(stopwords.words('english'))\n",
    ">>> from nltk.tokenize import word_tokenize\n",
    ">>> words=word_tokenize(text)\n",
    ">>> wordsFiltered=[]\n",
    ">>> for w in words:\n",
    "        if w not in stopwords:\n",
    "                 wordsFiltered.append(w)\n",
    ">>> wordsFiltered"
   ]
  },
  {
   "cell_type": "code",
   "execution_count": 52,
   "id": "a12ca6d3",
   "metadata": {},
   "outputs": [
    {
     "name": "stdout",
     "output_type": "stream",
     "text": [
      "[('I', 'PRP'), ('am', 'VBP'), ('a', 'DT'), ('human', 'JJ'), ('being', 'VBG'), (',', ','), ('capable', 'JJ'), ('of', 'IN'), ('doing', 'VBG'), ('terrible', 'JJ'), ('things', 'NNS')]\n"
     ]
    }
   ],
   "source": [
    ">>> import nltk\n",
    ">>> from nltk.tokenize import PunktSentenceTokenizer\n",
    ">>> text='I am a human being, capable of doing terrible things'\n",
    ">>> sentences=nltk.sent_tokenize(text)\n",
    ">>> for sent in sentences:\n",
    "        print(nltk.pos_tag(nltk.word_tokenize(sent)))"
   ]
  },
  {
   "cell_type": "code",
   "execution_count": null,
   "id": "4d42689a",
   "metadata": {},
   "outputs": [],
   "source": []
  }
 ],
 "metadata": {
  "kernelspec": {
   "display_name": "Python 3 (ipykernel)",
   "language": "python",
   "name": "python3"
  },
  "language_info": {
   "codemirror_mode": {
    "name": "ipython",
    "version": 3
   },
   "file_extension": ".py",
   "mimetype": "text/x-python",
   "name": "python",
   "nbconvert_exporter": "python",
   "pygments_lexer": "ipython3",
   "version": "3.10.9"
  }
 },
 "nbformat": 4,
 "nbformat_minor": 5
}
